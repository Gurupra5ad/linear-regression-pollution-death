{
  "nbformat": 4,
  "nbformat_minor": 0,
  "metadata": {
    "colab": {
      "name": "pollution and death.ipynb",
      "provenance": [],
      "toc_visible": true,
      "authorship_tag": "ABX9TyNnV7jGVZfjV12vGv9QhbhC",
      "include_colab_link": true
    },
    "kernelspec": {
      "name": "python3",
      "display_name": "Python 3"
    },
    "language_info": {
      "name": "python"
    }
  },
  "cells": [
    {
      "cell_type": "markdown",
      "metadata": {
        "id": "view-in-github",
        "colab_type": "text"
      },
      "source": [
        "<a href=\"https://colab.research.google.com/github/Gurupra5ad/linear-regression-pollution-death/blob/main/pollution_and_death.ipynb\" target=\"_parent\"><img src=\"https://colab.research.google.com/assets/colab-badge.svg\" alt=\"Open In Colab\"/></a>"
      ]
    },
    {
      "cell_type": "markdown",
      "metadata": {
        "id": "hr5yByydZQgq"
      },
      "source": [
        "### ***Deaths due to Air pollution yearwise***"
      ]
    },
    {
      "cell_type": "markdown",
      "metadata": {
        "id": "IBgWumNhZlap"
      },
      "source": [
        "# **Importing packages**"
      ]
    },
    {
      "cell_type": "code",
      "metadata": {
        "id": "gJx2-DaRZxYH"
      },
      "source": [
        "import numpy as np\n",
        "import pandas as pd\n",
        "import matplotlib.pyplot as plt"
      ],
      "execution_count": 1,
      "outputs": []
    },
    {
      "cell_type": "markdown",
      "metadata": {
        "id": "FrnTnAPPZ1z6"
      },
      "source": [
        "# **Adding the dataset**"
      ]
    },
    {
      "cell_type": "code",
      "metadata": {
        "id": "t555U5aDaP4j"
      },
      "source": [
        "dataset = pd.read_csv('pollution-deaths-years.csv')\n",
        "X = dataset.iloc[:, :-1].values\n",
        "Y = dataset.iloc[:, -1].values"
      ],
      "execution_count": 3,
      "outputs": []
    },
    {
      "cell_type": "markdown",
      "metadata": {
        "id": "vGVtp_YXaYTY"
      },
      "source": [
        "# **Splitting the training and test**"
      ]
    },
    {
      "cell_type": "code",
      "metadata": {
        "id": "w9oeqC8iagBU"
      },
      "source": [
        "from sklearn.model_selection import train_test_split\n",
        "X_train, X_test, Y_train, Y_test = train_test_split(X,Y, test_size=0.2, random_state = 0)"
      ],
      "execution_count": 4,
      "outputs": []
    },
    {
      "cell_type": "code",
      "metadata": {
        "colab": {
          "base_uri": "https://localhost:8080/"
        },
        "id": "PK7wHMO2b5jP",
        "outputId": "9a9583c1-8290-423c-fb5f-4d680ef6a384"
      },
      "source": [
        "print(X_train)"
      ],
      "execution_count": 5,
      "outputs": [
        {
          "output_type": "stream",
          "text": [
            "[[2014]\n",
            " [2004]\n",
            " [2010]\n",
            " [2011]\n",
            " [2007]\n",
            " [1992]\n",
            " [2001]\n",
            " [2017]\n",
            " [2016]\n",
            " [1999]\n",
            " [1997]\n",
            " [1995]\n",
            " [2009]\n",
            " [2000]\n",
            " [1998]\n",
            " [2013]\n",
            " [1994]\n",
            " [1991]\n",
            " [2012]\n",
            " [2006]\n",
            " [2003]]\n"
          ],
          "name": "stdout"
        }
      ]
    },
    {
      "cell_type": "code",
      "metadata": {
        "colab": {
          "base_uri": "https://localhost:8080/"
        },
        "id": "FIwOubJzb8wf",
        "outputId": "d830d053-ab5e-46eb-8110-5da2157bf237"
      },
      "source": [
        "print(X_test)"
      ],
      "execution_count": 6,
      "outputs": [
        {
          "output_type": "stream",
          "text": [
            "[[1993]\n",
            " [2015]\n",
            " [2005]\n",
            " [2008]\n",
            " [1996]\n",
            " [2002]]\n"
          ],
          "name": "stdout"
        }
      ]
    },
    {
      "cell_type": "code",
      "metadata": {
        "colab": {
          "base_uri": "https://localhost:8080/"
        },
        "id": "W5powN9bcA32",
        "outputId": "bf58c5a1-8612-40be-c7b0-6617faa88733"
      },
      "source": [
        "print(Y_train)"
      ],
      "execution_count": 7,
      "outputs": [
        {
          "output_type": "stream",
          "text": [
            "[137.5978149  151.57150286 145.22055961 144.74345237 148.05627209\n",
            " 207.46259368 172.71593424 131.9940186  134.64393837 180.31180392\n",
            " 191.94235377 190.72243402 145.87361425 175.93971858 189.49189411\n",
            " 140.0034701  195.99102399 209.53810174 141.78317718 148.5517856\n",
            " 160.97267712]\n"
          ],
          "name": "stdout"
        }
      ]
    },
    {
      "cell_type": "code",
      "metadata": {
        "colab": {
          "base_uri": "https://localhost:8080/"
        },
        "id": "064_g7SBcDq_",
        "outputId": "1e72bd0f-c6b1-46c8-8e9d-caeee4890838"
      },
      "source": [
        "print(Y_test)"
      ],
      "execution_count": 8,
      "outputs": [
        {
          "output_type": "stream",
          "text": [
            "[201.13928319 136.35334016 148.70647265 147.32481233 187.94266153\n",
            " 167.61125958]\n"
          ],
          "name": "stdout"
        }
      ]
    },
    {
      "cell_type": "markdown",
      "metadata": {
        "id": "3-toT8Nlcod9"
      },
      "source": [
        "# **Training the model**"
      ]
    },
    {
      "cell_type": "code",
      "metadata": {
        "colab": {
          "base_uri": "https://localhost:8080/"
        },
        "id": "p3ROJY-mcsZ5",
        "outputId": "db973c65-3e09-4b7f-9d9e-d12c1ce649db"
      },
      "source": [
        "from sklearn.linear_model import LinearRegression\n",
        "regressor = LinearRegression()\n",
        "regressor.fit(X_train, Y_train)"
      ],
      "execution_count": 14,
      "outputs": [
        {
          "output_type": "execute_result",
          "data": {
            "text/plain": [
              "LinearRegression(copy_X=True, fit_intercept=True, n_jobs=None, normalize=False)"
            ]
          },
          "metadata": {
            "tags": []
          },
          "execution_count": 14
        }
      ]
    },
    {
      "cell_type": "markdown",
      "metadata": {
        "id": "1X0AKhNrcyYz"
      },
      "source": [
        "# **Predict for test**"
      ]
    },
    {
      "cell_type": "code",
      "metadata": {
        "id": "f5QRizNmc2H_"
      },
      "source": [
        "Y_pred = regressor.predict(X_test)"
      ],
      "execution_count": 15,
      "outputs": []
    },
    {
      "cell_type": "code",
      "metadata": {
        "colab": {
          "base_uri": "https://localhost:8080/"
        },
        "id": "XzjPIGxjc6fp",
        "outputId": "b8c70503-f505-49b4-9a16-803c1deafd20"
      },
      "source": [
        "print(Y_pred)"
      ],
      "execution_count": 16,
      "outputs": [
        {
          "output_type": "stream",
          "text": [
            "[198.5289841  131.03927414 161.71641503 152.51327277 189.32584183\n",
            " 170.9195573 ]\n"
          ],
          "name": "stdout"
        }
      ]
    },
    {
      "cell_type": "markdown",
      "metadata": {
        "id": "MT00eMy8c9_Z"
      },
      "source": [
        "# **Plot training set**"
      ]
    },
    {
      "cell_type": "code",
      "metadata": {
        "colab": {
          "base_uri": "https://localhost:8080/",
          "height": 312
        },
        "id": "UDiNXR8ndDdr",
        "outputId": "b798303a-f505-491f-a2ea-04f7bf8a4d2c"
      },
      "source": [
        "plt.scatter(X_train, Y_train, color='red')\n",
        "plt.plot(X_train, regressor.predict(X_train), color='blue')\n",
        "plt.title('Salary vs Experience )training set')\n",
        "plt.xlabel('Experience')\n",
        "plt.ylabel('Salary')\n",
        "plt.plot()"
      ],
      "execution_count": 17,
      "outputs": [
        {
          "output_type": "execute_result",
          "data": {
            "text/plain": [
              "[]"
            ]
          },
          "metadata": {
            "tags": []
          },
          "execution_count": 17
        },
        {
          "output_type": "display_data",
          "data": {
            "image/png": "[encoded data removed]",
            "text/plain": [
              "<Figure size 432x288 with 1 Axes>"
            ]
          },
          "metadata": {
            "tags": [],
            "needs_background": "light"
          }
        }
      ]
    },
    {
      "cell_type": "markdown",
      "metadata": {
        "id": "QxjQNv9QdJJ5"
      },
      "source": [
        "# **Plot test set**"
      ]
    },
    {
      "cell_type": "code",
      "metadata": {
        "colab": {
          "base_uri": "https://localhost:8080/",
          "height": 312
        },
        "id": "BNl54nftdM_B",
        "outputId": "3fe23324-6367-4122-a1c9-38aabfdb1efc"
      },
      "source": [
        "plt.scatter(X_test, Y_test, color='red')\n",
        "plt.plot(X_train, regressor.predict(X_train), color='blue')\n",
        "plt.title('Salary vs Experience )test set')\n",
        "plt.xlabel('Experience')\n",
        "plt.ylabel('Salary')\n",
        "plt.plot()"
      ],
      "execution_count": 18,
      "outputs": [
        {
          "output_type": "execute_result",
          "data": {
            "text/plain": [
              "[]"
            ]
          },
          "metadata": {
            "tags": []
          },
          "execution_count": 18
        },
        {
          "output_type": "display_data",
          "data": {
            "image/png": "[encoded data removed]",
            "text/plain": [
              "<Figure size 432x288 with 1 Axes>"
            ]
          },
          "metadata": {
            "tags": [],
            "needs_background": "light"
          }
        }
      ]
    },
    {
      "cell_type": "markdown",
      "metadata": {
        "id": "1DtJ_ymVdZeb"
      },
      "source": [
        "# **Single data prediction**"
      ]
    },
    {
      "cell_type": "code",
      "metadata": {
        "colab": {
          "base_uri": "https://localhost:8080/"
        },
        "id": "ncUjSCDZdcwX",
        "outputId": "6f31109c-135f-44f8-e68b-72e9520e2257"
      },
      "source": [
        "Y_pred_single = regressor.predict([[2021]])\n",
        "print(Y_pred_single)"
      ],
      "execution_count": 21,
      "outputs": [
        {
          "output_type": "stream",
          "text": [
            "[112.63298961]\n"
          ],
          "name": "stdout"
        }
      ]
    }
  ]
}